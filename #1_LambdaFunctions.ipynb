{
 "cells": [
  {
   "cell_type": "markdown",
   "id": "63f5716e",
   "metadata": {},
   "source": [
    "Tutor : **MSAHIN**\n",
    "\n",
    "Contact me at **@datasciengine** (*linkedin, twitter, github, youtube, medium*)"
   ]
  },
  {
   "cell_type": "markdown",
   "id": "e82e7e3b",
   "metadata": {},
   "source": [
    "# Lambda Expressions"
   ]
  },
  {
   "cell_type": "markdown",
   "id": "5b61d0bc",
   "metadata": {},
   "source": [
    "Ayrıca anonim fonksiyonlar olarak bilinir, çünkü isimsiz olarak kullanılabilme özelliği vardır. Tek satırda yazmak istediğiniz fonksiyonlar olduğunda kullanımı işlevseldir. Çok satırlı fonksiyonlar için uygun değildir."
   ]
  },
  {
   "cell_type": "markdown",
   "id": "d4857a6d",
   "metadata": {},
   "source": [
    "### Normal bir fonksiyon"
   ]
  },
  {
   "cell_type": "code",
   "execution_count": 23,
   "id": "2c208ee6",
   "metadata": {},
   "outputs": [
    {
     "data": {
      "text/plain": [
       "25"
      ]
     },
     "execution_count": 23,
     "metadata": {},
     "output_type": "execute_result"
    }
   ],
   "source": [
    "def square(num):\n",
    "    \"\"\"\n",
    "    selam bu fonksiyon şu işe yarar.\n",
    "    param : num şudur.\n",
    "    \"\"\"\n",
    "    return num**2\n",
    "\n",
    "square(5)"
   ]
  },
  {
   "cell_type": "markdown",
   "id": "85dfa412",
   "metadata": {},
   "source": [
    "### Basit tek parametreli lambda expression"
   ]
  },
  {
   "cell_type": "code",
   "execution_count": 4,
   "id": "7d4cbba5",
   "metadata": {},
   "outputs": [
    {
     "data": {
      "text/plain": [
       "49"
      ]
     },
     "execution_count": 4,
     "metadata": {},
     "output_type": "execute_result"
    }
   ],
   "source": [
    "sq = lambda x : x**2\n",
    "\n",
    "sq(7)"
   ]
  },
  {
   "cell_type": "markdown",
   "id": "7e2c5417",
   "metadata": {},
   "source": [
    "### İki parametreli lambda expression"
   ]
  },
  {
   "cell_type": "code",
   "execution_count": 6,
   "id": "c2e2cb8a",
   "metadata": {},
   "outputs": [
    {
     "data": {
      "text/plain": [
       "15"
      ]
     },
     "execution_count": 6,
     "metadata": {},
     "output_type": "execute_result"
    }
   ],
   "source": [
    "topla = lambda a, b : a + b\n",
    "\n",
    "topla(5, 10)"
   ]
  },
  {
   "cell_type": "markdown",
   "id": "eac362b7",
   "metadata": {},
   "source": [
    "### Parametresiz lambda expression"
   ]
  },
  {
   "cell_type": "code",
   "execution_count": 11,
   "id": "2ec3d344",
   "metadata": {},
   "outputs": [
    {
     "name": "stdout",
     "output_type": "stream",
     "text": [
      "selam, hoşgeldin!\n"
     ]
    }
   ],
   "source": [
    "selamla = lambda : print(\"selam, hoşgeldin!\")\n",
    "\n",
    "selamla()"
   ]
  },
  {
   "cell_type": "markdown",
   "id": "efb8a92b",
   "metadata": {},
   "source": [
    "### \"key\" olarak lambda expression"
   ]
  },
  {
   "cell_type": "code",
   "execution_count": 15,
   "id": "959ccf85",
   "metadata": {
    "scrolled": true
   },
   "outputs": [
    {
     "data": {
      "text/plain": [
       "[1, 2, 35, 68, 74, 15, 2]"
      ]
     },
     "execution_count": 15,
     "metadata": {},
     "output_type": "execute_result"
    }
   ],
   "source": [
    "nums = [1,2,35,68,74,15,2]\n",
    "nums\n",
    "# nums.sort()"
   ]
  },
  {
   "cell_type": "code",
   "execution_count": 16,
   "id": "1c98f606",
   "metadata": {},
   "outputs": [],
   "source": [
    "nums.sort(key = lambda x: x*-1)"
   ]
  },
  {
   "cell_type": "code",
   "execution_count": 17,
   "id": "dd67572b",
   "metadata": {},
   "outputs": [
    {
     "data": {
      "text/plain": [
       "[74, 68, 35, 15, 2, 2, 1]"
      ]
     },
     "execution_count": 17,
     "metadata": {},
     "output_type": "execute_result"
    }
   ],
   "source": [
    "nums"
   ]
  },
  {
   "cell_type": "markdown",
   "id": "32d89831",
   "metadata": {},
   "source": [
    "### Bir fonksiyonun sonucu olarak lambda expression"
   ]
  },
  {
   "cell_type": "code",
   "execution_count": 18,
   "id": "ad29c897",
   "metadata": {},
   "outputs": [],
   "source": [
    "def polynom(a,b,c):\n",
    "    return lambda x: a**2*x + b*x + c"
   ]
  },
  {
   "cell_type": "code",
   "execution_count": 22,
   "id": "616ef82a",
   "metadata": {
    "scrolled": true
   },
   "outputs": [
    {
     "data": {
      "text/plain": [
       "12"
      ]
     },
     "execution_count": 22,
     "metadata": {},
     "output_type": "execute_result"
    }
   ],
   "source": [
    "lambda_x = polynom(2,3,5)\n",
    "\n",
    "lambda_x(1)"
   ]
  }
 ],
 "metadata": {
  "kernelspec": {
   "display_name": "Python 3 (ipykernel)",
   "language": "python",
   "name": "python3"
  },
  "language_info": {
   "codemirror_mode": {
    "name": "ipython",
    "version": 3
   },
   "file_extension": ".py",
   "mimetype": "text/x-python",
   "name": "python",
   "nbconvert_exporter": "python",
   "pygments_lexer": "ipython3",
   "version": "3.8.10"
  }
 },
 "nbformat": 4,
 "nbformat_minor": 5
}
