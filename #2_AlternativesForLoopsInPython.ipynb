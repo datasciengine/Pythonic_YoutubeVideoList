{
 "cells": [
  {
   "cell_type": "markdown",
   "id": "487a72f7",
   "metadata": {},
   "source": [
    "Tutor : **MSAHIN**\n",
    "\n",
    "Contact me at **@datasciengine** (*linkedin, twitter, github, youtube, medium*)"
   ]
  },
  {
   "cell_type": "markdown",
   "id": "8e1f5ac2",
   "metadata": {},
   "source": [
    "# Alternatives For Loops"
   ]
  },
  {
   "cell_type": "markdown",
   "id": "50c30fd4",
   "metadata": {},
   "source": [
    "These are three functions which facilitate a functional approach to programming. We will discuss them one by one and understand their use cases."
   ]
  },
  {
   "cell_type": "markdown",
   "id": "4345ff1e",
   "metadata": {},
   "source": [
    "## 1. Map"
   ]
  },
  {
   "cell_type": "markdown",
   "id": "1dcb133d",
   "metadata": {},
   "source": [
    "\"Map\" applies a function to all the items in an input_list. \n",
    "\n",
    "Here is the blueprint"
   ]
  },
  {
   "cell_type": "markdown",
   "id": "21674a2d",
   "metadata": {},
   "source": [
    "**map**( **function_to_apply, list_of_inputs** )"
   ]
  },
  {
   "cell_type": "code",
   "execution_count": 1,
   "id": "95320f61",
   "metadata": {},
   "outputs": [
    {
     "data": {
      "text/plain": [
       "[1, 4, 9, 16, 25, 36, 49]"
      ]
     },
     "execution_count": 1,
     "metadata": {},
     "output_type": "execute_result"
    }
   ],
   "source": [
    "nums = [1,2,3,4,5,6,7]\n",
    "squared = []\n",
    "\n",
    "for num in nums:\n",
    "    squared.append(num**2)\n",
    "    \n",
    "squared"
   ]
  },
  {
   "cell_type": "markdown",
   "id": "ab3da110",
   "metadata": {},
   "source": [
    "Map allows us to implement this in a much simpler and nicer way. \n",
    "\n",
    "Here you go"
   ]
  },
  {
   "cell_type": "code",
   "execution_count": 3,
   "id": "b7735081",
   "metadata": {},
   "outputs": [
    {
     "data": {
      "text/plain": [
       "[1, 4, 9, 16, 25, 36, 49]"
      ]
     },
     "execution_count": 3,
     "metadata": {},
     "output_type": "execute_result"
    }
   ],
   "source": [
    "list(map(lambda x: x**2, nums))"
   ]
  },
  {
   "cell_type": "markdown",
   "id": "cd2ad91c",
   "metadata": {},
   "source": [
    "Most of the times we use lambdas with map so I did the same. Instead of a list of inputs we can even have a list of functions!"
   ]
  },
  {
   "cell_type": "code",
   "execution_count": 5,
   "id": "e14987a8",
   "metadata": {
    "collapsed": true
   },
   "outputs": [
    {
     "name": "stdout",
     "output_type": "stream",
     "text": [
      "Iteration : 0\n",
      "Val :  [0, 0]\n",
      "____________________\n",
      "Iteration : 1\n",
      "Val :  [1, 2]\n",
      "____________________\n",
      "Iteration : 2\n",
      "Val :  [4, 4]\n",
      "____________________\n",
      "Iteration : 3\n",
      "Val :  [9, 6]\n",
      "____________________\n",
      "Iteration : 4\n",
      "Val :  [16, 8]\n",
      "____________________\n"
     ]
    }
   ],
   "source": [
    "def multiply(x):\n",
    "    return x*x\n",
    "\n",
    "def add(x):\n",
    "    return x+x\n",
    "\n",
    "funcs = [multiply, add]\n",
    "\n",
    "for i in range(5): # i : 0,1,2,3,4\n",
    "    print(f\"Iteration : {i}\")\n",
    "    value = list(map(lambda x: x(i), funcs))\n",
    "    print(\"Val : \", value)\n",
    "    print(\"_\"*20)"
   ]
  },
  {
   "cell_type": "markdown",
   "id": "00a94de6",
   "metadata": {},
   "source": [
    "## 2. Filter"
   ]
  },
  {
   "cell_type": "markdown",
   "id": "1794e2f7",
   "metadata": {},
   "source": [
    "As the name suggests, **filter** creates a list of elements for which a function returns true. \n",
    "\n",
    "Here is the blueprint"
   ]
  },
  {
   "cell_type": "markdown",
   "id": "62e55d3e",
   "metadata": {},
   "source": [
    "**filter**( **function_to_filter, list_of_inputs** )"
   ]
  },
  {
   "cell_type": "markdown",
   "id": "e5f87b21",
   "metadata": {},
   "source": [
    "Here is a short and concise example:"
   ]
  },
  {
   "cell_type": "code",
   "execution_count": 7,
   "id": "4bf63281",
   "metadata": {},
   "outputs": [],
   "source": [
    "weights = [12,1251,51,7415,151,5]\n",
    "new_weights = []\n",
    "for weight in weights:\n",
    "    if weight > 80:\n",
    "        new_weights.append(weight)"
   ]
  },
  {
   "cell_type": "code",
   "execution_count": 8,
   "id": "76e9ad00",
   "metadata": {},
   "outputs": [
    {
     "data": {
      "text/plain": [
       "[1251, 7415, 151]"
      ]
     },
     "execution_count": 8,
     "metadata": {},
     "output_type": "execute_result"
    }
   ],
   "source": [
    "new_weights"
   ]
  },
  {
   "cell_type": "code",
   "execution_count": 12,
   "id": "9254b9cd",
   "metadata": {
    "scrolled": true
   },
   "outputs": [
    {
     "data": {
      "text/plain": [
       "[1251, 51, 7415, 151, 5]"
      ]
     },
     "execution_count": 12,
     "metadata": {},
     "output_type": "execute_result"
    }
   ],
   "source": [
    "new_wghts = list(filter(lambda x: x%2, weights))\n",
    "new_wghts"
   ]
  },
  {
   "cell_type": "code",
   "execution_count": null,
   "id": "6d34294e",
   "metadata": {},
   "outputs": [],
   "source": []
  },
  {
   "cell_type": "code",
   "execution_count": 13,
   "id": "e47dc5e4",
   "metadata": {},
   "outputs": [],
   "source": [
    "name_list = [\"murat\", \"mert\", \"mustafa\", \"ali\",\"aylin\"]"
   ]
  },
  {
   "cell_type": "code",
   "execution_count": 15,
   "id": "f6046fcd",
   "metadata": {},
   "outputs": [
    {
     "data": {
      "text/plain": [
       "['murat', 'mustafa']"
      ]
     },
     "execution_count": 15,
     "metadata": {},
     "output_type": "execute_result"
    }
   ],
   "source": [
    "new_names = list(filter(lambda x: x.startswith(\"mu\"), name_list))\n",
    "new_names"
   ]
  },
  {
   "cell_type": "markdown",
   "id": "c678e1f3",
   "metadata": {},
   "source": [
    "The filter resembles a for loop but it is a builtin function and faster."
   ]
  },
  {
   "cell_type": "markdown",
   "id": "ba7a34d5",
   "metadata": {},
   "source": [
    "_Note: If map & filter do not appear beautiful to you then you can read about list/dict/tuple comprehensions_."
   ]
  },
  {
   "cell_type": "markdown",
   "id": "7229e1ea",
   "metadata": {},
   "source": [
    "## 3. Reduce"
   ]
  },
  {
   "cell_type": "markdown",
   "id": "b2b286de",
   "metadata": {},
   "source": [
    "Reduce is a really useful function for performing some computation on a list and returning the result. It applies a rolling computation to sequential pairs of values in a list. For example, if you wanted to compute the product of a list of integers."
   ]
  },
  {
   "cell_type": "markdown",
   "id": "7daa8f50",
   "metadata": {},
   "source": [
    "So the normal way you might go about doing this task in python is using a basic for loop:"
   ]
  },
  {
   "cell_type": "code",
   "execution_count": 16,
   "id": "2996a355",
   "metadata": {},
   "outputs": [
    {
     "name": "stdout",
     "output_type": "stream",
     "text": [
      "1\n",
      "2\n",
      "6\n",
      "24\n",
      "120\n",
      "720\n"
     ]
    }
   ],
   "source": [
    "product = 1\n",
    "nums = [1,2,3,4,5,6]\n",
    "\n",
    "for num in nums:\n",
    "    product = product * num\n",
    "    print(product)"
   ]
  },
  {
   "cell_type": "markdown",
   "id": "bb963c8f",
   "metadata": {},
   "source": [
    "Now let’s try it with reduce:"
   ]
  },
  {
   "cell_type": "code",
   "execution_count": 17,
   "id": "75b780d2",
   "metadata": {},
   "outputs": [],
   "source": [
    "from functools import reduce\n",
    "\n",
    "product = reduce(lambda x, y : x*y, nums)"
   ]
  },
  {
   "cell_type": "code",
   "execution_count": 19,
   "id": "b3a8bd0c",
   "metadata": {},
   "outputs": [
    {
     "data": {
      "text/plain": [
       "720"
      ]
     },
     "execution_count": 19,
     "metadata": {},
     "output_type": "execute_result"
    }
   ],
   "source": [
    "reduce(lambda x, y : x*y, nums)"
   ]
  },
  {
   "cell_type": "code",
   "execution_count": null,
   "id": "3405c8cf",
   "metadata": {},
   "outputs": [],
   "source": []
  }
 ],
 "metadata": {
  "kernelspec": {
   "display_name": "Python 3 (ipykernel)",
   "language": "python",
   "name": "python3"
  },
  "language_info": {
   "codemirror_mode": {
    "name": "ipython",
    "version": 3
   },
   "file_extension": ".py",
   "mimetype": "text/x-python",
   "name": "python",
   "nbconvert_exporter": "python",
   "pygments_lexer": "ipython3",
   "version": "3.8.10"
  }
 },
 "nbformat": 4,
 "nbformat_minor": 5
}
